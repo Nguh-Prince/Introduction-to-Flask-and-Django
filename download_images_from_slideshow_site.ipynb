{
 "cells": [
  {
   "cell_type": "code",
   "execution_count": 17,
   "metadata": {},
   "outputs": [],
   "source": [
    "import requests\n",
    "\n",
    "from bs4 import BeautifulSoup\n",
    "import pandas as pd\n",
    "import time\n",
    "import os\n",
    "\n",
    "import PyPDF2"
   ]
  },
  {
   "cell_type": "code",
   "execution_count": null,
   "metadata": {},
   "outputs": [],
   "source": [
    "directory_to_save_images = \"django-slides-images-with-powerpoint\"\n",
    "\n",
    "with open(\"slideshare-page (copied manually).html\", encoding=\"utf8\") as f:\n",
    "    content = f.read()\n",
    "    soup = BeautifulSoup(content, \"html.parser\")\n",
    "\n",
    "    images = soup.select(\"img.SlideImage_img__9terM\")\n",
    "\n",
    "    if not os.path.exists(directory_to_save_images):\n",
    "        os.makedirs(directory_to_save_images)\n",
    "\n",
    "    for index, image in enumerate(images):\n",
    "        url = image['src']\n",
    "        response = requests.get(url)\n",
    "\n",
    "        image_path = os.path.join(directory_to_save_images, f\"Slide #{index+1}.jpg\")\n",
    "\n",
    "        with open(image_path, \"wb\") as f:\n",
    "            f.write(response.content)"
   ]
  },
  {
   "cell_type": "code",
   "execution_count": 24,
   "metadata": {},
   "outputs": [],
   "source": [
    "import aspose.slides as slides"
   ]
  },
  {
   "cell_type": "code",
   "execution_count": 27,
   "metadata": {},
   "outputs": [],
   "source": [
    "def get_url(slide_number):\n",
    "    return f\"https://image.slidesharecdn.com/django-190618111016/75/introduction-to-django-{slide_number}-2048.jpg\"\n",
    "\n",
    "image_paths = []\n",
    "\n",
    "# for i in range(1, 25):\n",
    "#     url = get_url(i)\n",
    "\n",
    "#     response = requests.get(url)\n",
    "#     filename = os.path.basename(url)\n",
    "\n",
    "#     image_path = os.path.join(directory_to_save_images, filename)\n",
    "#     image_paths.append(image_path)\n",
    "#     with open(image_path, \"wb\") as f:\n",
    "#         f.write(response.content)\n",
    "    \n",
    "#     print(f\"Done downloading: {filename}\")\n",
    "\n",
    "with slides.Presentation() as pres:\n",
    "    for index, file in enumerate(image_paths):\n",
    "        slide = pres.slides[index]\n",
    "        with open(file, \"rb\") as in_file:\n",
    "            image = pres.images.add_image(in_file)\n",
    "\n",
    "            slide.shapes.add_picture_frame(slides.ShapeType.RECTANGLE, 10, 10, 2048, 1000, image)\n",
    "\n",
    "    pres.save(\"django-slideshow.pptx\", slides.export.SaveFormat.PPTX)"
   ]
  },
  {
   "cell_type": "code",
   "execution_count": null,
   "metadata": {},
   "outputs": [],
   "source": []
  }
 ],
 "metadata": {
  "kernelspec": {
   "display_name": "Python 3",
   "language": "python",
   "name": "python3"
  },
  "language_info": {
   "codemirror_mode": {
    "name": "ipython",
    "version": 3
   },
   "file_extension": ".py",
   "mimetype": "text/x-python",
   "name": "python",
   "nbconvert_exporter": "python",
   "pygments_lexer": "ipython3",
   "version": "3.10.1"
  },
  "orig_nbformat": 4
 },
 "nbformat": 4,
 "nbformat_minor": 2
}
